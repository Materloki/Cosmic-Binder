{
 "cells": [
  {
   "cell_type": "markdown",
   "metadata": {
    "colab_type": "text",
    "id": "tWB_YAITVL9-"
   },
   "source": [
    "# Roteiro para análise de dados do Detector de Raios Cósmicos\n",
    "\n",
    "O intuito desse Notebook é entender e analisar os dados salvos provenientes do detector instalado na sua escola. Aqui passaremos a entender um pouco como o *Python* funciona e como analisar dados nesse ambiente!\n",
    "Para cumprir esse objetivos seguiremos a seguinte ordem:\n",
    "- Importaremos os dados de um arquivo .csv\n",
    "- Exploraremos o que tem nesse arquivo por meio de funções proporcionadas pelas bibliotecas\n",
    "- Iremos gerar gráficos para visualizar os eventos"
   ]
  },
  {
   "cell_type": "markdown",
   "metadata": {
    "colab_type": "text",
    "id": "xZM_yXZhVL-F"
   },
   "source": [
    "## Importando Bibliotecas \n",
    "\n",
    "Para que as funções que usaremos nesse programa funcionem é necessário carregar o que chamamos de **Bibliotecas**.\n",
    "Essas são outros programas que contem funções criadas por outras pessoas que nos permitem utilizar ferramentas já prontas para nos ajudar a criar o nosso programa"
   ]
  },
  {
   "cell_type": "code",
   "execution_count": 1,
   "metadata": {
    "colab": {},
    "colab_type": "code",
    "id": "K75xfOKRVL-J"
   },
   "outputs": [],
   "source": [
    "import pandas as pd\n",
    "import matplotlib.pyplot as plt\n",
    "import numpy as np\n",
    "import cosmic\n",
    "%matplotlib inline  "
   ]
  },
  {
   "cell_type": "markdown",
   "metadata": {},
   "source": [
    "Vamos enteder o que cada uma delas faz e porque elas são importantes para o nosso trabalho:\n",
    "<img src=\"https://miro.medium.com/max/765/0*p0FtnloWd4ogMvTQ.png\" width=250 height=250 />\n",
    "\n",
    "O NumPy é uma poderosa biblioteca Python que é usada principalmente para realizar cálculos em vetores multidimensionais (listas, matrizes e tensores de maiores dimensões). O **NumPy** fornece um grande conjunto de funções e operações de biblioteca que ajudam os programadores a executar facilmente cálculos numéricos. Além disso, essa biblioteca possui uma estrutura de dados própria: o numpy array, esses são equipados com um grande número de funções e operadores que ajudam a escrever rapidamente códigos de alto desempenho para vários tipos de cálculos.\n",
    "\n",
    "Fonte: https://medium.com/ensina-ai/entendendo-a-biblioteca-numpy-4858fde63355\n",
    "\n",
    "Utilizaremos essa biblioteca porque temos uma grande quantidade de dados que são salvos em uma grande tabela. As colunas dessas tabelas podem ser interpretadas pelo Numpy, o que nos ajuda pois a biblioteca conta com muitas funções úteis para fazermos aritmética com elas\n",
    "\n",
    "\n",
    "<img src=\"https://skeptric.com/images/pandas.png\" width=200 height=200 />\n",
    "\n",
    "Pandas é uma biblioteca que nos permite ler arquivos, como .txt, .csv, e .xslx, e extrair deles um **dataframe**. Um dataframe nada mais é do que uma tabela em que a biblioteca consegue manipular. Assim, podemos enxergar, manipular e analisar os dados que colhemos dos sensores, tudo aqui no Python.\n",
    "<img src=\"https://matplotlib.org/_static/logo2_compressed.svg\" width=200 height=200 />\n",
    "\n",
    "Matplotlib é uma biblioteca que possibilita a criação de gráficos robustos e altamente costumizáveis. Além disso, é muito intuitivo conseguir construir um gráfico basico, o que a torna extramente didática para iniciantes. "
   ]
  },
  {
   "cell_type": "markdown",
   "metadata": {
    "colab_type": "text",
    "id": "5RSae1BQNX4n"
   },
   "source": [
    "## Abrindo a Base de Dados"
   ]
  },
  {
   "cell_type": "code",
   "execution_count": 12,
   "metadata": {
    "colab": {},
    "colab_type": "code",
    "id": "lMt6G8-aVL-Z"
   },
   "outputs": [],
   "source": [
    "df = pd.read_csv(\"events.csv\", index_col = \"EventNumber\")"
   ]
  },
  {
   "cell_type": "markdown",
   "metadata": {},
   "source": [
    "Antes de partir para qualquer tipo de analise é uma boa prática\n",
    "tentar entender como os dados estão estruturados e dar uma olhada\n",
    "no dataset em geral."
   ]
  },
  {
   "cell_type": "code",
   "execution_count": 13,
   "metadata": {},
   "outputs": [
    {
     "name": "stdout",
     "output_type": "stream",
     "text": [
      "<class 'pandas.core.frame.DataFrame'>\n",
      "Int64Index: 100000 entries, 109491 to 209490\n",
      "Data columns (total 2 columns):\n",
      " #   Column       Non-Null Count   Dtype \n",
      "---  ------       --------------   ----- \n",
      " 0   TriggerBits  100000 non-null  int64 \n",
      " 1   Timestamp    100000 non-null  object\n",
      "dtypes: int64(1), object(1)\n",
      "memory usage: 2.3+ MB\n",
      "None\n"
     ]
    }
   ],
   "source": [
    "print(df.info())"
   ]
  },
  {
   "cell_type": "markdown",
   "metadata": {},
   "source": [
    "### Trigger Bits\n",
    "\n",
    "Configuraçao do sensor que recebeu o raio cósmico:\n",
    "<img src=\"fig/cosmic.png\" width=500/>\n",
    "\n",
    "Os bits guardados na base de dados não referem-se somente ao sensores ativos, mas também a outras propriedades, como a configuração atual dos sensores (como visto na imagem, pode-se arranjar os sensores de maneiras diferentes) paridades entre as ativações ou calibrações do equipamento.\n",
    "\n",
    "\n",
    "### Timestamp\n",
    "\n",
    "Essa coluna nos diz o horário exato, com precisão de segundos, em que o evento ocorreu. Isso é bastante importante para as análises temporais.\n",
    "\n",
    "\n",
    "Vemos que os dados são majoritariamente numéricos e somente a coluna Timestamp é do tipo *obejct*,\n",
    "isso ocorre porque eles são lidos como strings no documento .csv . Olhando elas entenderemos melhor o que\n",
    "representam.\n",
    "\n",
    "\n",
    "Agora veremos como são as linhas da base de dados:"
   ]
  },
  {
   "cell_type": "code",
   "execution_count": 14,
   "metadata": {},
   "outputs": [
    {
     "data": {
      "text/html": [
       "<div>\n",
       "<style scoped>\n",
       "    .dataframe tbody tr th:only-of-type {\n",
       "        vertical-align: middle;\n",
       "    }\n",
       "\n",
       "    .dataframe tbody tr th {\n",
       "        vertical-align: top;\n",
       "    }\n",
       "\n",
       "    .dataframe thead th {\n",
       "        text-align: right;\n",
       "    }\n",
       "</style>\n",
       "<table border=\"1\" class=\"dataframe\">\n",
       "  <thead>\n",
       "    <tr style=\"text-align: right;\">\n",
       "      <th></th>\n",
       "      <th>TriggerBits</th>\n",
       "      <th>Timestamp</th>\n",
       "    </tr>\n",
       "    <tr>\n",
       "      <th>EventNumber</th>\n",
       "      <th></th>\n",
       "      <th></th>\n",
       "    </tr>\n",
       "  </thead>\n",
       "  <tbody>\n",
       "    <tr>\n",
       "      <th>109491</th>\n",
       "      <td>1000111</td>\n",
       "      <td>1989-09-29 13:55:03</td>\n",
       "    </tr>\n",
       "    <tr>\n",
       "      <th>109492</th>\n",
       "      <td>1000111</td>\n",
       "      <td>1989-09-29 13:55:03</td>\n",
       "    </tr>\n",
       "    <tr>\n",
       "      <th>109493</th>\n",
       "      <td>11101000</td>\n",
       "      <td>1989-09-29 13:55:04</td>\n",
       "    </tr>\n",
       "    <tr>\n",
       "      <th>109494</th>\n",
       "      <td>1000111</td>\n",
       "      <td>1989-09-29 13:55:04</td>\n",
       "    </tr>\n",
       "    <tr>\n",
       "      <th>109495</th>\n",
       "      <td>1000111</td>\n",
       "      <td>1989-09-29 13:55:05</td>\n",
       "    </tr>\n",
       "  </tbody>\n",
       "</table>\n",
       "</div>"
      ],
      "text/plain": [
       "             TriggerBits            Timestamp\n",
       "EventNumber                                  \n",
       "109491           1000111  1989-09-29 13:55:03\n",
       "109492           1000111  1989-09-29 13:55:03\n",
       "109493          11101000  1989-09-29 13:55:04\n",
       "109494           1000111  1989-09-29 13:55:04\n",
       "109495           1000111  1989-09-29 13:55:05"
      ]
     },
     "execution_count": 14,
     "metadata": {},
     "output_type": "execute_result"
    }
   ],
   "source": [
    "df.head()"
   ]
  },
  {
   "cell_type": "markdown",
   "metadata": {},
   "source": [
    "Essas seriam as cinco primeiras linhas da nossa base de dados, nelas enxergamos coisas interessantes:\n",
    "* Cada linha é um evento diferente\n",
    "* Temos informações do horário em que o evento aconteceu\n",
    "* Sabemos quais foram os sensores acionados em cada detecção\n",
    "\n",
    "Para que possamos utilizar o Timestamp, devemos convertelo novamente para datetime, o tipo em que o \n",
    "Python consegue interpeta-lo"
   ]
  },
  {
   "cell_type": "code",
   "execution_count": 5,
   "metadata": {},
   "outputs": [],
   "source": [
    "df['Timestamp'] =  pd.to_datetime(df[\"Timestamp\"])"
   ]
  },
  {
   "cell_type": "markdown",
   "metadata": {},
   "source": [
    "Agora podemos começar a analisar o que temos"
   ]
  },
  {
   "cell_type": "markdown",
   "metadata": {
    "colab_type": "text",
    "id": "I6klyQaJX0Wk"
   },
   "source": [
    "## Análise e histogramas dos eventos"
   ]
  },
  {
   "cell_type": "markdown",
   "metadata": {
    "colab_type": "text",
    "id": "w8PtAD5mRyG9"
   },
   "source": [
    "### Média de eventos por hora"
   ]
  },
  {
   "cell_type": "markdown",
   "metadata": {},
   "source": [
    "Temos eventos de dois dias distintos, 29 e 30 de setembro de 2019. \n",
    "Vamos inicialmente ver quantos eventos acontecem por hora:"
   ]
  },
  {
   "cell_type": "code",
   "execution_count": 7,
   "metadata": {
    "colab": {
     "base_uri": "https://localhost:8080/",
     "height": 697
    },
    "colab_type": "code",
    "executionInfo": {
     "elapsed": 1686,
     "status": "error",
     "timestamp": 1580323294986,
     "user": {
      "displayName": "Rodrigo Estevam",
      "photoUrl": "",
      "userId": "15668971073471015793"
     },
     "user_tz": 180
    },
    "id": "8jBLm2uTO3Um",
    "outputId": "e4010a78-2454-4b88-f42c-040681c715d2"
   },
   "outputs": [
    {
     "name": "stdout",
     "output_type": "stream",
     "text": [
      "Média diária:4977.636363636364\n",
      "    hora\n",
      "13   496\n",
      "14  5430\n",
      "15  5444\n",
      "16  5086\n",
      "17  5450\n",
      "18  5412\n",
      "19  5633\n",
      "20  5416\n",
      "21  5415\n",
      "22  5463\n",
      "23  5509\n"
     ]
    }
   ],
   "source": [
    "cosmic.MediaPorHora(df,dia=29)"
   ]
  },
  {
   "cell_type": "code",
   "execution_count": 8,
   "metadata": {
    "colab": {
     "base_uri": "https://localhost:8080/",
     "height": 204
    },
    "colab_type": "code",
    "executionInfo": {
     "elapsed": 1045,
     "status": "ok",
     "timestamp": 1580323295708,
     "user": {
      "displayName": "Rodrigo Estevam",
      "photoUrl": "",
      "userId": "15668971073471015793"
     },
     "user_tz": 180
    },
    "id": "-d9ThsjfO3z5",
    "outputId": "cefb3991-bd68-4dc0-958d-64144649919a"
   },
   "outputs": [
    {
     "name": "stdout",
     "output_type": "stream",
     "text": [
      "Média diária:5027.333333333333\n",
      "   hora\n",
      "0  5445\n",
      "1  5455\n",
      "2  5394\n",
      "3  5470\n",
      "4  5309\n",
      "5  5486\n",
      "6  5508\n",
      "7  5489\n",
      "8  1690\n"
     ]
    }
   ],
   "source": [
    "cosmic.MediaPorHora(df,dia=30)"
   ]
  },
  {
   "cell_type": "markdown",
   "metadata": {},
   "source": [
    "Distribuição das diferentes ativações dos sensores "
   ]
  },
  {
   "cell_type": "markdown",
   "metadata": {},
   "source": [
    "## Histogramas\n",
    "Queremos saber qual a distribuição de raios cósmicos em um dia, então usaremos um Histograma:\n",
    "\n",
    "O histograma, também conhecido como distribuição de frequências, é a representação gráfica em colunas ou em barras (retângulos) de um conjunto de dados previamente tabulado e dividido em classes uniformes ou não uniformes. A base de cada retângulo representa uma classe. A altura de cada retângulo representa a quantidade ou a frequência absoluta com que o valor da classe ocorre no conjunto de dados para classes uniformes ou a densidade de frequência para classes não uniformes Importante ferramenta da estatística, o histograma também é uma das chamadas sete ferramentas da qualidade.\n",
    "\n",
    "Quando o volume de dados aumenta indefinidamente dentro do conjunto de dados e o intervalo de classes tende a zero (o que torna os retângulos cada vez mais finos e altos), a distribuição de frequência torna–se uma distribuição de densidade de probabilidades. A construção de histogramas tem caráter preliminar em qualquer estudo e é um importante indicador da distribuição de dados. Os histogramas podem indicar se uma distribuição se aproxima de uma função normal, assim como também podem indicar a mistura de populações quando se apresentam bimodais.\n",
    "\n",
    "\n",
    "<img src=\"https://d1lc5plzz0mq74.cloudfront.net/wp-content/uploads/2015/08/21202945/ED_1.png\" width=400 height=400 />\n",
    "\n",
    "Fonte: [Wikipedia](https://pt.wikipedia.org/wiki/Histograma)"
   ]
  },
  {
   "cell_type": "code",
   "execution_count": 9,
   "metadata": {},
   "outputs": [
    {
     "data": {
      "image/png": "[encoded data removed]",
      "text/plain": [
       "<Figure size 720x432 with 1 Axes>"
      ]
     },
     "metadata": {
      "needs_background": "light"
     },
     "output_type": "display_data"
    }
   ],
   "source": [
    "cosmic.HistogramaPorHora(df,dia=29)"
   ]
  },
  {
   "cell_type": "code",
   "execution_count": 10,
   "metadata": {
    "colab": {
     "base_uri": "https://localhost:8080/",
     "height": 404
    },
    "colab_type": "code",
    "executionInfo": {
     "elapsed": 1142,
     "status": "ok",
     "timestamp": 1574509961950,
     "user": {
      "displayName": "Rodrigo Estevam",
      "photoUrl": "",
      "userId": "15668971073471015793"
     },
     "user_tz": 120
    },
    "id": "o4QbvUkjBEJI",
    "outputId": "ed91795d-1f6f-476f-9f3c-cd9b31f36a61"
   },
   "outputs": [
    {
     "data": {
      "image/png": "[encoded data removed]",
      "text/plain": [
       "<Figure size 720x432 with 1 Axes>"
      ]
     },
     "metadata": {
      "needs_background": "light"
     },
     "output_type": "display_data"
    }
   ],
   "source": [
    "cosmic.HistogramaPorHora(df,dia=30)"
   ]
  },
  {
   "cell_type": "markdown",
   "metadata": {},
   "source": [
    "## Outros gráficos\n",
    "\n",
    "Se precisarmos de precisão maior de tempo, podemos também gerar gráficos com resoluções menores, o gráfico abaixo é um exemplo, nele vemos a quantidade de eventos no dia 30 agrupuados de 5 em 5 minutos:"
   ]
  },
  {
   "cell_type": "code",
   "execution_count": 6,
   "metadata": {},
   "outputs": [
    {
     "data": {
      "image/png": "[encoded data removed]",
      "text/plain": [
       "<Figure size 1440x432 with 1 Axes>"
      ]
     },
     "metadata": {
      "needs_background": "light"
     },
     "output_type": "display_data"
    }
   ],
   "source": [
    "cosmic.Histograma(df, dia =30, bin = 5)"
   ]
  }
 ],
 "metadata": {
  "colab": {
   "collapsed_sections": [],
   "name": "raios_cosmicos.ipynb",
   "provenance": [],
   "toc_visible": true
  },
  "kernelspec": {
   "display_name": "Python 3",
   "language": "python",
   "name": "python3"
  },
  "language_info": {
   "codemirror_mode": {
    "name": "ipython",
    "version": 3
   },
   "file_extension": ".py",
   "mimetype": "text/x-python",
   "name": "python",
   "nbconvert_exporter": "python",
   "pygments_lexer": "ipython3",
   "version": "3.7.7"
  }
 },
 "nbformat": 4,
 "nbformat_minor": 1
}
