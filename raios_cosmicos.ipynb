{
 "cells": [
  {
   "cell_type": "markdown",
   "metadata": {
    "colab_type": "text",
    "id": "tWB_YAITVL9-"
   },
   "source": [
    "# Roteiro para análise de dados do Detector de Raios Cósmicos\n"
   ]
  },
  {
   "cell_type": "markdown",
   "metadata": {
    "colab_type": "text",
    "id": "xZM_yXZhVL-F"
   },
   "source": [
    "## Importando Bibliotecas \n",
    "\n",
    "Para que as funções que usaremos nesse programa funcionem é necessário carregar o que chamamos de **Bibliotecas**.\n",
    "Essas são outros programas que contem funções criadas por outras pessoas que nos permitem utilizar ferramentas já prontas para nos ajudar a criar o nosso programa"
   ]
  },
  {
   "cell_type": "code",
   "execution_count": 19,
   "metadata": {
    "colab": {},
    "colab_type": "code",
    "id": "K75xfOKRVL-J"
   },
   "outputs": [],
   "source": [
    "import pandas as pd\n",
    "import matplotlib.pyplot as plt\n",
    "import numpy as np\n",
    "import cosmic"
   ]
  },
  {
   "cell_type": "markdown",
   "metadata": {
    "colab_type": "text",
    "id": "5RSae1BQNX4n"
   },
   "source": [
    "## Abrindo a Base de Dados"
   ]
  },
  {
   "cell_type": "code",
   "execution_count": 15,
   "metadata": {
    "colab": {},
    "colab_type": "code",
    "id": "lMt6G8-aVL-Z"
   },
   "outputs": [],
   "source": [
    "df = pd.read_csv(\"data.csv\")"
   ]
  },
  {
   "cell_type": "markdown",
   "metadata": {},
   "source": [
    "Antes de partir para qualquer tipo de analise é uma boa prática\n",
    "tentar entender como os dados estão estruturados e dar uma olhada\n",
    "no dataset em geral."
   ]
  },
  {
   "cell_type": "code",
   "execution_count": 16,
   "metadata": {},
   "outputs": [
    {
     "name": "stdout",
     "output_type": "stream",
     "text": [
      "<class 'pandas.core.frame.DataFrame'>\n",
      "RangeIndex: 100000 entries, 0 to 99999\n",
      "Data columns (total 19 columns):\n",
      " #   Column         Non-Null Count   Dtype \n",
      "---  ------         --------------   ----- \n",
      " 0   CosmicBlock    100000 non-null  int64 \n",
      " 1   CounterClocks  100000 non-null  int64 \n",
      " 2   DetectorId     100000 non-null  int64 \n",
      " 3   EventCounter   100000 non-null  int64 \n",
      " 4   EventNumber    100000 non-null  int64 \n",
      " 5   Format         100000 non-null  int64 \n",
      " 6   RunNumber      100000 non-null  int64 \n",
      " 7   TDC            100000 non-null  object\n",
      " 8   Timestamp      100000 non-null  object\n",
      " 9   TriggerBits    100000 non-null  int64 \n",
      " 10  b1             100000 non-null  int64 \n",
      " 11  b2             100000 non-null  int64 \n",
      " 12  b11            100000 non-null  int64 \n",
      " 13  b12            100000 non-null  int64 \n",
      " 14  b21            100000 non-null  int64 \n",
      " 15  b22            100000 non-null  int64 \n",
      " 16  day            100000 non-null  int64 \n",
      " 17  hour           100000 non-null  int64 \n",
      " 18  period         100000 non-null  int64 \n",
      "dtypes: int64(17), object(2)\n",
      "memory usage: 14.5+ MB\n",
      "None\n"
     ]
    }
   ],
   "source": [
    "print(df.info())"
   ]
  },
  {
   "cell_type": "markdown",
   "metadata": {},
   "source": [
    "Vemos que os dados são majoritariamente numéricos e somente a coluna TDC e a Timestamp são objetos,\n",
    "isso ocorre porque eles são lidos como strings no documento .csv . Olhando elas entenderemos melhor o que\n",
    "representam.\n",
    "\n",
    "Agora veremos como são as linhas da base de dados:"
   ]
  },
  {
   "cell_type": "code",
   "execution_count": 17,
   "metadata": {},
   "outputs": [
    {
     "data": {
      "text/html": [
       "<div>\n",
       "<style scoped>\n",
       "    .dataframe tbody tr th:only-of-type {\n",
       "        vertical-align: middle;\n",
       "    }\n",
       "\n",
       "    .dataframe tbody tr th {\n",
       "        vertical-align: top;\n",
       "    }\n",
       "\n",
       "    .dataframe thead th {\n",
       "        text-align: right;\n",
       "    }\n",
       "</style>\n",
       "<table border=\"1\" class=\"dataframe\">\n",
       "  <thead>\n",
       "    <tr style=\"text-align: right;\">\n",
       "      <th></th>\n",
       "      <th>CosmicBlock</th>\n",
       "      <th>CounterClocks</th>\n",
       "      <th>DetectorId</th>\n",
       "      <th>EventCounter</th>\n",
       "      <th>EventNumber</th>\n",
       "      <th>Format</th>\n",
       "      <th>RunNumber</th>\n",
       "      <th>TDC</th>\n",
       "      <th>Timestamp</th>\n",
       "      <th>TriggerBits</th>\n",
       "      <th>b1</th>\n",
       "      <th>b2</th>\n",
       "      <th>b11</th>\n",
       "      <th>b12</th>\n",
       "      <th>b21</th>\n",
       "      <th>b22</th>\n",
       "      <th>day</th>\n",
       "      <th>hour</th>\n",
       "      <th>period</th>\n",
       "    </tr>\n",
       "  </thead>\n",
       "  <tbody>\n",
       "    <tr>\n",
       "      <th>0</th>\n",
       "      <td>2</td>\n",
       "      <td>718687488</td>\n",
       "      <td>0</td>\n",
       "      <td>1875903232</td>\n",
       "      <td>109491</td>\n",
       "      <td>1</td>\n",
       "      <td>12345</td>\n",
       "      <td>{'1': {'Calib': [None, None], 'Data': 14221312...</td>\n",
       "      <td>1989-09-29 13:55:03</td>\n",
       "      <td>1000111</td>\n",
       "      <td>100</td>\n",
       "      <td>111</td>\n",
       "      <td>1</td>\n",
       "      <td>0</td>\n",
       "      <td>1</td>\n",
       "      <td>11</td>\n",
       "      <td>29</td>\n",
       "      <td>13</td>\n",
       "      <td>2913</td>\n",
       "    </tr>\n",
       "    <tr>\n",
       "      <th>1</th>\n",
       "      <td>2</td>\n",
       "      <td>485350144</td>\n",
       "      <td>0</td>\n",
       "      <td>1892680448</td>\n",
       "      <td>109492</td>\n",
       "      <td>1</td>\n",
       "      <td>12345</td>\n",
       "      <td>{'1': {'Calib': [None, None], 'Data': 12910592...</td>\n",
       "      <td>1989-09-29 13:55:03</td>\n",
       "      <td>1000111</td>\n",
       "      <td>100</td>\n",
       "      <td>111</td>\n",
       "      <td>1</td>\n",
       "      <td>0</td>\n",
       "      <td>1</td>\n",
       "      <td>11</td>\n",
       "      <td>29</td>\n",
       "      <td>13</td>\n",
       "      <td>2913</td>\n",
       "    </tr>\n",
       "    <tr>\n",
       "      <th>2</th>\n",
       "      <td>2</td>\n",
       "      <td>1133446913</td>\n",
       "      <td>0</td>\n",
       "      <td>1909457664</td>\n",
       "      <td>109493</td>\n",
       "      <td>1</td>\n",
       "      <td>12345</td>\n",
       "      <td>{'1': {'Calib': [None, None], 'Data': 12910592...</td>\n",
       "      <td>1989-09-29 13:55:04</td>\n",
       "      <td>11101000</td>\n",
       "      <td>1110</td>\n",
       "      <td>1000</td>\n",
       "      <td>11</td>\n",
       "      <td>10</td>\n",
       "      <td>10</td>\n",
       "      <td>0</td>\n",
       "      <td>29</td>\n",
       "      <td>13</td>\n",
       "      <td>2913</td>\n",
       "    </tr>\n",
       "    <tr>\n",
       "      <th>3</th>\n",
       "      <td>2</td>\n",
       "      <td>1741200640</td>\n",
       "      <td>0</td>\n",
       "      <td>1926234880</td>\n",
       "      <td>109494</td>\n",
       "      <td>1</td>\n",
       "      <td>12345</td>\n",
       "      <td>{'1': {'Calib': [None, None], 'Data': 12255232...</td>\n",
       "      <td>1989-09-29 13:55:04</td>\n",
       "      <td>1000111</td>\n",
       "      <td>100</td>\n",
       "      <td>111</td>\n",
       "      <td>1</td>\n",
       "      <td>0</td>\n",
       "      <td>1</td>\n",
       "      <td>11</td>\n",
       "      <td>29</td>\n",
       "      <td>13</td>\n",
       "      <td>2913</td>\n",
       "    </tr>\n",
       "    <tr>\n",
       "      <th>4</th>\n",
       "      <td>2</td>\n",
       "      <td>4080291072</td>\n",
       "      <td>0</td>\n",
       "      <td>1943012096</td>\n",
       "      <td>109495</td>\n",
       "      <td>1</td>\n",
       "      <td>12345</td>\n",
       "      <td>{'1': {'Calib': [None, None], 'Data': 12255232...</td>\n",
       "      <td>1989-09-29 13:55:05</td>\n",
       "      <td>1000111</td>\n",
       "      <td>100</td>\n",
       "      <td>111</td>\n",
       "      <td>1</td>\n",
       "      <td>0</td>\n",
       "      <td>1</td>\n",
       "      <td>11</td>\n",
       "      <td>29</td>\n",
       "      <td>13</td>\n",
       "      <td>2913</td>\n",
       "    </tr>\n",
       "  </tbody>\n",
       "</table>\n",
       "</div>"
      ],
      "text/plain": [
       "   CosmicBlock  CounterClocks  DetectorId  EventCounter  EventNumber  Format  \\\n",
       "0            2      718687488           0    1875903232       109491       1   \n",
       "1            2      485350144           0    1892680448       109492       1   \n",
       "2            2     1133446913           0    1909457664       109493       1   \n",
       "3            2     1741200640           0    1926234880       109494       1   \n",
       "4            2     4080291072           0    1943012096       109495       1   \n",
       "\n",
       "   RunNumber                                                TDC  \\\n",
       "0      12345  {'1': {'Calib': [None, None], 'Data': 14221312...   \n",
       "1      12345  {'1': {'Calib': [None, None], 'Data': 12910592...   \n",
       "2      12345  {'1': {'Calib': [None, None], 'Data': 12910592...   \n",
       "3      12345  {'1': {'Calib': [None, None], 'Data': 12255232...   \n",
       "4      12345  {'1': {'Calib': [None, None], 'Data': 12255232...   \n",
       "\n",
       "             Timestamp  TriggerBits    b1    b2  b11  b12  b21  b22  day  \\\n",
       "0  1989-09-29 13:55:03      1000111   100   111    1    0    1   11   29   \n",
       "1  1989-09-29 13:55:03      1000111   100   111    1    0    1   11   29   \n",
       "2  1989-09-29 13:55:04     11101000  1110  1000   11   10   10    0   29   \n",
       "3  1989-09-29 13:55:04      1000111   100   111    1    0    1   11   29   \n",
       "4  1989-09-29 13:55:05      1000111   100   111    1    0    1   11   29   \n",
       "\n",
       "   hour  period  \n",
       "0    13    2913  \n",
       "1    13    2913  \n",
       "2    13    2913  \n",
       "3    13    2913  \n",
       "4    13    2913  "
      ]
     },
     "execution_count": 17,
     "metadata": {},
     "output_type": "execute_result"
    }
   ],
   "source": [
    "df.head()"
   ]
  },
  {
   "cell_type": "markdown",
   "metadata": {},
   "source": [
    "Essas seriam as cinco primeiras linhas da nossa base de dados, nelas enxergamos coisas interessantes:\n",
    "* Cada linha é um evento diferente\n",
    "* Temos informações do horário em que o evento aconteceu\n",
    "* Sabemos quais foram os sensores acionados em cada detecção\n",
    "\n",
    "Para que possamos utilizar o Timestamp, devemos convertelo novamente para datetime, o tipo em que o \n",
    "Python consegue interpeta-lo"
   ]
  },
  {
   "cell_type": "code",
   "execution_count": 35,
   "metadata": {},
   "outputs": [],
   "source": [
    "df['Timestamp'] =  pd.to_datetime(df[\"Timestamp\"])"
   ]
  },
  {
   "cell_type": "markdown",
   "metadata": {},
   "source": [
    "Agora podemos começar a analisar o que temos"
   ]
  },
  {
   "cell_type": "markdown",
   "metadata": {
    "colab_type": "text",
    "id": "I6klyQaJX0Wk"
   },
   "source": [
    "## Análise e histogramas dos eventos"
   ]
  },
  {
   "cell_type": "markdown",
   "metadata": {
    "colab_type": "text",
    "id": "w8PtAD5mRyG9"
   },
   "source": [
    "### Média de eventos por hora"
   ]
  },
  {
   "cell_type": "markdown",
   "metadata": {},
   "source": [
    "Temos eventos de dois dias distintos, 29 e 30 de setembro de 2019. \n",
    "Vamos inicialmente ver quantos eventos acontecem por hora:"
   ]
  },
  {
   "cell_type": "code",
   "execution_count": 45,
   "metadata": {
    "colab": {
     "base_uri": "https://localhost:8080/",
     "height": 697
    },
    "colab_type": "code",
    "executionInfo": {
     "elapsed": 1686,
     "status": "error",
     "timestamp": 1580323294986,
     "user": {
      "displayName": "Rodrigo Estevam",
      "photoUrl": "",
      "userId": "15668971073471015793"
     },
     "user_tz": 180
    },
    "id": "8jBLm2uTO3Um",
    "outputId": "e4010a78-2454-4b88-f42c-040681c715d2"
   },
   "outputs": [
    {
     "name": "stdout",
     "output_type": "stream",
     "text": [
      "Média diária:4977.636363636364\n",
      "    hora\n",
      "13   496\n",
      "14  5430\n",
      "15  5444\n",
      "16  5086\n",
      "17  5450\n",
      "18  5412\n",
      "19  5633\n",
      "20  5416\n",
      "21  5415\n",
      "22  5463\n",
      "23  5509\n"
     ]
    }
   ],
   "source": [
    "cosmic.MediaPorHora(df,dia=29)"
   ]
  },
  {
   "cell_type": "code",
   "execution_count": 46,
   "metadata": {
    "colab": {
     "base_uri": "https://localhost:8080/",
     "height": 204
    },
    "colab_type": "code",
    "executionInfo": {
     "elapsed": 1045,
     "status": "ok",
     "timestamp": 1580323295708,
     "user": {
      "displayName": "Rodrigo Estevam",
      "photoUrl": "",
      "userId": "15668971073471015793"
     },
     "user_tz": 180
    },
    "id": "-d9ThsjfO3z5",
    "outputId": "cefb3991-bd68-4dc0-958d-64144649919a"
   },
   "outputs": [
    {
     "name": "stdout",
     "output_type": "stream",
     "text": [
      "Média diária:5027.333333333333\n",
      "   hora\n",
      "0  5445\n",
      "1  5455\n",
      "2  5394\n",
      "3  5470\n",
      "4  5309\n",
      "5  5486\n",
      "6  5508\n",
      "7  5489\n",
      "8  1690\n"
     ]
    }
   ],
   "source": [
    "cosmic.MediaPorHora(df,dia=30)"
   ]
  },
  {
   "cell_type": "markdown",
   "metadata": {},
   "source": [
    "Distribuição das diferentes ativações dos sensores "
   ]
  },
  {
   "cell_type": "code",
   "execution_count": 40,
   "metadata": {
    "colab": {
     "base_uri": "https://localhost:8080/",
     "height": 121
    },
    "colab_type": "code",
    "executionInfo": {
     "elapsed": 810,
     "status": "ok",
     "timestamp": 1575471569741,
     "user": {
      "displayName": "Rodrigo Estevam",
      "photoUrl": "",
      "userId": "15668971073471015793"
     },
     "user_tz": 180
    },
    "id": "dCi_jgCFbBt3",
    "outputId": "ce22d547-feaa-41a7-caf0-b8b7cf0cf799"
   },
   "outputs": [
    {
     "name": "stdout",
     "output_type": "stream",
     "text": [
      "100     0.56501\n",
      "1110    0.43430\n",
      "110     0.00067\n",
      "1111    0.00001\n",
      "1       0.00001\n",
      "Name: b1, dtype: float64\n"
     ]
    }
   ],
   "source": [
    "print(df.b1.value_counts(normalize=True))"
   ]
  },
  {
   "cell_type": "code",
   "execution_count": 41,
   "metadata": {
    "colab": {
     "base_uri": "https://localhost:8080/",
     "height": 156
    },
    "colab_type": "code",
    "executionInfo": {
     "elapsed": 671,
     "status": "ok",
     "timestamp": 1575471533950,
     "user": {
      "displayName": "Rodrigo Estevam",
      "photoUrl": "",
      "userId": "15668971073471015793"
     },
     "user_tz": 180
    },
    "id": "VL0IPsp-86IE",
    "outputId": "01cebfb1-301a-4cca-e628-d70870efa269"
   },
   "outputs": [
    {
     "name": "stdout",
     "output_type": "stream",
     "text": [
      "111     0.56526\n",
      "1000    0.43381\n",
      "1111    0.00050\n",
      "1001    0.00040\n",
      "110     0.00001\n",
      "11      0.00001\n",
      "1       0.00001\n",
      "Name: b2, dtype: float64\n"
     ]
    }
   ],
   "source": [
    "print(df.b2.value_counts(normalize=True))"
   ]
  },
  {
   "cell_type": "markdown",
   "metadata": {},
   "source": [
    "## Histogramas"
   ]
  },
  {
   "cell_type": "code",
   "execution_count": 47,
   "metadata": {},
   "outputs": [
    {
     "data": {
      "image/png": "[encoded data removed]",
      "text/plain": [
       "<Figure size 720x432 with 1 Axes>"
      ]
     },
     "metadata": {
      "needs_background": "light"
     },
     "output_type": "display_data"
    }
   ],
   "source": [
    "cosmic.HistogramaPorHora(df,dia=29)"
   ]
  },
  {
   "cell_type": "code",
   "execution_count": 48,
   "metadata": {
    "colab": {
     "base_uri": "https://localhost:8080/",
     "height": 404
    },
    "colab_type": "code",
    "executionInfo": {
     "elapsed": 1142,
     "status": "ok",
     "timestamp": 1574509961950,
     "user": {
      "displayName": "Rodrigo Estevam",
      "photoUrl": "",
      "userId": "15668971073471015793"
     },
     "user_tz": 120
    },
    "id": "o4QbvUkjBEJI",
    "outputId": "ed91795d-1f6f-476f-9f3c-cd9b31f36a61"
   },
   "outputs": [
    {
     "data": {
      "image/png": "[encoded data removed]",
      "text/plain": [
       "<Figure size 720x432 with 1 Axes>"
      ]
     },
     "metadata": {
      "needs_background": "light"
     },
     "output_type": "display_data"
    }
   ],
   "source": [
    "cosmic.HistogramaPorHora(df,dia=30)"
   ]
  }
 ],
 "metadata": {
  "colab": {
   "collapsed_sections": [],
   "name": "raios_cosmicos.ipynb",
   "provenance": [],
   "toc_visible": true
  },
  "kernelspec": {
   "display_name": "Python 3",
   "language": "python",
   "name": "python3"
  },
  "language_info": {
   "codemirror_mode": {
    "name": "ipython",
    "version": 3
   },
   "file_extension": ".py",
   "mimetype": "text/x-python",
   "name": "python",
   "nbconvert_exporter": "python",
   "pygments_lexer": "ipython3",
   "version": "3.7.7"
  }
 },
 "nbformat": 4,
 "nbformat_minor": 1
}
